{
 "cells": [
  {
   "cell_type": "code",
   "execution_count": 1,
   "metadata": {},
   "outputs": [
    {
     "data": {
      "text/plain": [
       "120"
      ]
     },
     "execution_count": 1,
     "metadata": {},
     "output_type": "execute_result"
    }
   ],
   "source": [
    "## Question 1.1: Write a Python Program to implement your own myreduce() function which works exactly like\n",
    "## Python's built-in function reduce()\n",
    "\n",
    "##Multiplying all numbers in a list\n",
    "\n",
    "def multiply(a,b):\n",
    "    if a==0 or a==1:\n",
    "        return 1*b\n",
    "    else:\n",
    "        return a*b\n",
    "    \n",
    "lst = range(0,6)\n",
    "from functools import reduce\n",
    "reduce((lambda x,y:multiply(x,y)),lst)\n"
   ]
  },
  {
   "cell_type": "code",
   "execution_count": 2,
   "metadata": {},
   "outputs": [
    {
     "data": {
      "text/plain": [
       "[0, 6, 28]"
      ]
     },
     "execution_count": 2,
     "metadata": {},
     "output_type": "execute_result"
    }
   ],
   "source": [
    "## Question 1.2: Write a Python program to implement your own myfilter() function which works exactly like\n",
    "## Python's built-in function filter()\n",
    "\n",
    "##Print Perfect Numbers in the list\n",
    "\n",
    "def perfect_number(n):\n",
    "    sum = 0\n",
    "    for i in range (1,n):\n",
    "        if n % i == 0:\n",
    "            sum += i\n",
    "    if(sum==n):\n",
    "        return True\n",
    "lst = range(100)\n",
    "list(filter(perfect_number,lst))"
   ]
  },
  {
   "cell_type": "code",
   "execution_count": 3,
   "metadata": {},
   "outputs": [
    {
     "name": "stdout",
     "output_type": "stream",
     "text": [
      "['A', 'C', 'A', 'D', 'G', 'I', 'L', 'D']\n",
      "['x', 'xx', 'xxx', 'xxxx', 'y', 'yy', 'yyy', 'yyyy', 'z', 'zz', 'zzz', 'zzzz']\n",
      "['x', 'y', 'z', 'xx', 'yy', 'zz', 'xxx', 'yyy', 'zzz', 'xxxx', 'yyyy', 'zzzz']\n",
      "[[2], [3], [4], [3], [4], [5], [4], [5], [6]]\n",
      "[[2, 3, 4, 5], [3, 4, 5, 6], [4, 5, 6, 7], [5, 6, 7, 8]]\n",
      "[(1, 1), (1, 2), (1, 3), (2, 1), (2, 2), (2, 3), (3, 1), (3, 2), (3, 3)]\n"
     ]
    }
   ],
   "source": [
    "## Question 2: Implement List comprehensions to produce the following lists.\n",
    "## Write List comprehensions to produce the following Lists\n",
    "## ['A', 'C', 'A', 'D', 'G', 'I', ’L’, ‘ D’]\n",
    "## ['x', 'xx', 'xxx', 'xxxx', 'y', 'yy', 'yyy', 'yyyy', 'z', 'zz', 'zzz', 'zzzz']\n",
    "## ['x', 'y', 'z', 'xx', 'yy', 'zz', 'xx', 'yy', 'zz', 'xxxx', 'yyyy', 'zzzz']\n",
    "## [[2], [3], [4], [3], [4], [5], [4], [5], [6]]\n",
    "## [[2, 3, 4, 5], [3, 4, 5, 6], [4, 5, 6, 7], [5, 6, 7, 8]]\n",
    "## [(1, 1), (2, 1), (3, 1), (1, 2), (2, 2), (3, 2), (1, 3), (2, 3), (3, 3)]\n",
    "\n",
    "str = 'ACADGILD'\n",
    "list1 = [char for char in str]\n",
    "print (list1)\n",
    "\n",
    "l=['x','y','z']\n",
    "list2 = [char*n for char in l for n in range(1,5)]\n",
    "print (list2)\n",
    "\n",
    "list3 = [char*n for n in range(1,5) for char in l]\n",
    "print(list3)\n",
    "\n",
    "n=[2,3,4]\n",
    "list4 = [[num+temp] for num in n for temp in range(0,3)]\n",
    "print(list4)\n",
    "\n",
    "n=[2,3,4,5]\n",
    "list5 = [[num+temp for num in n] for temp in range(0,4)]\n",
    "print(list5)\n",
    "\n",
    "n=[1,2,3]\n",
    "list6 = [ (x,y) for x in n for y in n]\n",
    "print(list6)\n"
   ]
  },
  {
   "cell_type": "code",
   "execution_count": 4,
   "metadata": {},
   "outputs": [
    {
     "name": "stdout",
     "output_type": "stream",
     "text": [
      "Longest word in list : abracadabra\n"
     ]
    }
   ],
   "source": [
    "##Question 3: Implement a function longestWord() that takes a list of words and returns the longest one.\n",
    "\n",
    "def longestWord(lst):\n",
    "    longWord=\"\"\n",
    "    longLength = 0\n",
    "    for word in lst:\n",
    "        if(longLength < len(word)):\n",
    "            longLength = len(word)\n",
    "            longWord = word\n",
    "    return longWord\n",
    "\n",
    "words = [\"alpha\",\"omega\",\"up\",\"down\",\"over\",\"under\",\"purple\",\"red\",\"blue\",\"green\",\"abracadabra\"]\n",
    "print(\"Longest word in list : %s\"%longestWord(words))\n"
   ]
  },
  {
   "cell_type": "markdown",
   "metadata": {},
   "source": [
    "# Task 2"
   ]
  },
  {
   "cell_type": "code",
   "execution_count": 12,
   "metadata": {},
   "outputs": [
    {
     "name": "stdout",
     "output_type": "stream",
     "text": [
      "Area of triangle with sides 3 4 5 is\n",
      "6.0\n"
     ]
    }
   ],
   "source": [
    "## Question 1.1 Write a Python Program(with class concepts) to find the area of the triangle using the below formula.\n",
    "## area = (s*(s-a)*(s-b)*(s-c)) ** 0.5\n",
    "\n",
    "## Function to take the length of the sides of triangle from user should be defined in the parent\n",
    "## class and function to calculate the area should be defined in subclass.\n",
    "\n",
    "class Shape:\n",
    "    def __init__(self,a,b,c):\n",
    "        self.a = a\n",
    "        self.b = b\n",
    "        self.c = c\n",
    "    def __str__(self):\n",
    "        a,b,c = self.a,self.b,self.c\n",
    "        return ('Area of triangle with sides %d %d %d is'%(a,b,c))\n",
    "    \n",
    "class Triangle(Shape):\n",
    "     def __init__(self, *args):\n",
    "        super(Triangle, self).__init__(*args)\n",
    "    \n",
    "     def getArea(self):\n",
    "        a,b,c = self.a,self.b,self.c\n",
    "        s = (a+b+c) / 2\n",
    "        return (s*(s-a)*(s-b)*(s-c)) ** 0.5\n",
    "    \n",
    "        \n",
    "tri = Triangle(3,4,5)\n",
    "print(tri)\n",
    "print(tri.getArea())\n",
    "        \n",
    "    "
   ]
  },
  {
   "cell_type": "code",
   "execution_count": 6,
   "metadata": {},
   "outputs": [
    {
     "name": "stdout",
     "output_type": "stream",
     "text": [
      "['alpha', 'omega', 'under', 'purple', 'green', 'abracadabra']\n"
     ]
    }
   ],
   "source": [
    "##Question 1.2 Write a function filter_long_words() that takes a list of words and an integer n and returns the list\n",
    "##of words that are longer than n.\n",
    "\n",
    "def filter_long_words(lst,n):\n",
    "    list_longWords = []\n",
    "    for word in lst:\n",
    "        if(len(word)>n):\n",
    "            list_longWords.append(word)\n",
    "    return list_longWords\n",
    "\n",
    "words = [\"alpha\",\"omega\",\"up\",\"down\",\"over\",\"under\",\"purple\",\"red\",\"blue\",\"green\",\"abracadabra\"]\n",
    "listOfLongWords = filter_long_words(words,4)\n",
    "print(listOfLongWords) ## prints all words > 4\n"
   ]
  },
  {
   "cell_type": "code",
   "execution_count": 9,
   "metadata": {},
   "outputs": [
    {
     "name": "stdout",
     "output_type": "stream",
     "text": [
      "Enter the words (separated by spaces)harry hogwarts hermoine avadakedavra\n",
      "['harry', 'hogwarts', 'hermoine', 'avadakedavra']\n",
      "[5, 8, 8, 12]\n"
     ]
    }
   ],
   "source": [
    "##Question 2.1: Write a Python program using function concept that maps list of words into a list of integers\n",
    "## representing the lengths of the corresponding words \n",
    "\n",
    "s = input(\"Enter the words (separated by spaces)\")\n",
    "words = list(s.split(\" \"))\n",
    "print(words)\n",
    "numbers = [len(word) for word in words]\n",
    "print(numbers)\n"
   ]
  },
  {
   "cell_type": "code",
   "execution_count": 8,
   "metadata": {},
   "outputs": [
    {
     "name": "stdout",
     "output_type": "stream",
     "text": [
      "Enter a charactere\n",
      "The character e is vowel\n"
     ]
    }
   ],
   "source": [
    "## Question 2.2 : Write a Python function which takes a character (i.e. a string of length 1) and returns True if it is\n",
    "## a vowel, False otherwise.\n",
    "\n",
    "def isVowel(c):\n",
    "        char=c.upper()\n",
    "        if(char=='A' or char=='E' or char=='I' or char=='O' or char=='U'):\n",
    "            return True\n",
    "        else:\n",
    "            return False\n",
    "        \n",
    "char=input(\"Enter a character  \")\n",
    "if(isVowel(char)):\n",
    "    print(\"The character %c is vowel\"%char)\n",
    "else:\n",
    "    print(\"The character %c is not vowel\"%char)"
   ]
  },
  {
   "cell_type": "code",
   "execution_count": null,
   "metadata": {},
   "outputs": [],
   "source": []
  }
 ],
 "metadata": {
  "kernelspec": {
   "display_name": "Python 3",
   "language": "python",
   "name": "python3"
  },
  "language_info": {
   "codemirror_mode": {
    "name": "ipython",
    "version": 3
   },
   "file_extension": ".py",
   "mimetype": "text/x-python",
   "name": "python",
   "nbconvert_exporter": "python",
   "pygments_lexer": "ipython3",
   "version": "3.6.5"
  }
 },
 "nbformat": 4,
 "nbformat_minor": 2
}
